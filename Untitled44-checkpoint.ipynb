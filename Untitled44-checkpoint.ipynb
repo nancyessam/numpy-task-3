{
 "cells": [
  {
   "cell_type": "code",
   "execution_count": 1,
   "metadata": {},
   "outputs": [
    {
     "name": "stdout",
     "output_type": "stream",
     "text": [
      "Original 1-D arrays:\n",
      "[6 2]\n",
      "[2 5]\n",
      "Outer Product of the two array is:\n",
      "[[12 30]\n",
      " [ 4 10]]\n"
     ]
    }
   ],
   "source": [
    "#numpy linear algebra\n",
    "#1-Write a NumPy program to compute the outer product of two given vectors.\n",
    "# Importing library\n",
    "import numpy as np\n",
    "array1 = np.array([6,2])\n",
    "array2 = np.array([2,5])\n",
    "print(\"Original 1-D arrays:\")\n",
    "print(array1)\n",
    "print(array2)\n",
    "print(\"Outer Product of the two array is:\")\n",
    "result = np.outer(array1, array2)\n",
    "print(result)"
   ]
  },
  {
   "cell_type": "code",
   "execution_count": 7,
   "metadata": {},
   "outputs": [
    {
     "data": {
      "text/plain": [
       "array([-3,  6, -3])"
      ]
     },
     "execution_count": 7,
     "metadata": {},
     "output_type": "execute_result"
    }
   ],
   "source": [
    "#2-Write a NumPy program to compute the cross product of two given vectors. \n",
    "import numpy as np\n",
    "x = [1, 2, 3]\n",
    "y = [4, 5, 6]\n",
    "np.cross(x, y)"
   ]
  },
  {
   "cell_type": "code",
   "execution_count": 8,
   "metadata": {},
   "outputs": [
    {
     "name": "stdout",
     "output_type": "stream",
     "text": [
      "Original 1-d arrays:\n",
      "[1 2 3]\n",
      "[0 1 0]\n",
      "Einstein’s summation convention of the said arrays:\n",
      "2\n",
      "Original Higher dimension:\n",
      "[[0 1 2]\n",
      " [3 4 5]\n",
      " [6 7 8]]\n",
      "[[ 3  4  5]\n",
      " [ 6  7  8]\n",
      " [ 9 10 11]]\n",
      "Einstein’s summation convention of the said arrays:\n",
      "[[ 24  27  30]\n",
      " [ 78  90 102]\n",
      " [132 153 174]]\n"
     ]
    }
   ],
   "source": [
    "#3-Write a NumPy program to evaluate Einstein's summation convention of two given\n",
    "import numpy as np\n",
    "a = np.array([1,2,3])\n",
    "b = np.array([0,1,0])\n",
    "print(\"Original 1-d arrays:\")\n",
    "print(a)\n",
    "print(b)\n",
    "result =  np.einsum(\"n,n\", a, b)\n",
    "print(\"Einstein’s summation convention of the said arrays:\")\n",
    "print(result)\n",
    "x = np.arange(9).reshape(3, 3)\n",
    "y = np.arange(3, 12).reshape(3, 3)\n",
    "print(\"Original Higher dimension:\")\n",
    "print(x)\n",
    "print(y)\n",
    "result = np.einsum(\"mk,kn\", x, y)\n",
    "print(\"Einstein’s summation convention of the said arrays:\")\n",
    "print(result)"
   ]
  },
  {
   "cell_type": "code",
   "execution_count": 9,
   "metadata": {},
   "outputs": [
    {
     "name": "stdout",
     "output_type": "stream",
     "text": [
      "Original matrix:\n",
      "[[1 2]\n",
      " [3 4]]\n",
      "Condition number of the said matrix:\n",
      "14.933034373659265\n"
     ]
    }
   ],
   "source": [
    "#4-Write a NumPy program to compute the condition number of a given matrix. \n",
    "import numpy as np\n",
    "m = np.array([[1,2],[3,4]])\n",
    "print(\"Original matrix:\")\n",
    "print(m)\n",
    "result =  np.linalg.cond(m)\n",
    "print(\"Condition number of the said matrix:\")\n",
    "print(result)"
   ]
  },
  {
   "cell_type": "code",
   "execution_count": 10,
   "metadata": {},
   "outputs": [
    {
     "name": "stdout",
     "output_type": "stream",
     "text": [
      "Vector norm:\n",
      "9.539392014169456\n",
      "Matrix norm:\n",
      "5.477225575051661\n"
     ]
    }
   ],
   "source": [
    "#5-Write a NumPy program to find a matrix or vector norm.\n",
    "import numpy as np\n",
    "v = np.arange(7)\n",
    "result = np.linalg.norm(v)\n",
    "print(\"Vector norm:\")\n",
    "print(result)\n",
    "m = np.matrix('1, 2; 3, 4') \n",
    "result1 = np.linalg.norm(m)\n",
    "print(\"Matrix norm:\")\n",
    "print(result1)"
   ]
  },
  {
   "cell_type": "code",
   "execution_count": 11,
   "metadata": {},
   "outputs": [
    {
     "name": "stdout",
     "output_type": "stream",
     "text": [
      "Original 2-d array\n",
      "[[1 0]\n",
      " [1 2]]\n",
      "Determinant of the said 2-D array:\n",
      "2.0\n"
     ]
    }
   ],
   "source": [
    "#6-Write a NumPy program to compute the determinant of an array.\n",
    "import numpy as np\n",
    "from numpy import linalg as LA\n",
    "a = np.array([[1, 0], [1, 2]])\n",
    "print(\"Original 2-d array\")\n",
    "print(a)\n",
    "print(\"Determinant of the said 2-D array:\")\n",
    "print(np.linalg.det(a))"
   ]
  },
  {
   "cell_type": "code",
   "execution_count": 12,
   "metadata": {},
   "outputs": [
    {
     "name": "stdout",
     "output_type": "stream",
     "text": [
      "Inverse array is \n",
      "[[-1.5   0.5 ]\n",
      " [ 1.25 -0.25]]\n",
      "\n"
     ]
    }
   ],
   "source": [
    "#7-Write a NumPy program to compute the inverse of a given matrix.\n",
    "import numpy as np \n",
    "arr = np.array([[1, 2], [5, 6]])\n",
    "inverse_array = np.linalg.inv(arr)\n",
    "print(\"Inverse array is \")\n",
    "print(inverse_array)\n",
    "print()"
   ]
  },
  {
   "cell_type": "code",
   "execution_count": 13,
   "metadata": {},
   "outputs": [
    {
     "name": "stdout",
     "output_type": "stream",
     "text": [
      "Original array:\n",
      "[[1 2 3]\n",
      " [4 5 6]\n",
      " [7 8 9]]\n",
      "Frobenius norm and the condition number:\n",
      "16.881943016134134\n",
      "3.193239515623568e+17\n"
     ]
    }
   ],
   "source": [
    "#8-Write a NumPy program to calculate the Frobenius norm and the condition number of a given array. \n",
    "import numpy as np\n",
    "\n",
    "a = np.arange(1, 10).reshape((3, 3))\n",
    "print(\"Original array:\")\n",
    "print(a)\n",
    "print(\"Frobenius norm and the condition number:\")\n",
    "print(np.linalg.norm(a, 'fro'))\n",
    "print(np.linalg.cond(a, 'fro'))"
   ]
  },
  {
   "cell_type": "code",
   "execution_count": 14,
   "metadata": {},
   "outputs": [
    {
     "name": "stdout",
     "output_type": "stream",
     "text": [
      "Original array:\n",
      "[[  4  12 -14]\n",
      " [ 12  37 -53]\n",
      " [-14 -53  98]]\n",
      "qr factorization of the said array:\n",
      "q=\n",
      " [[-0.21199958 -0.27930103  0.93650794]\n",
      " [-0.63599873 -0.68815735 -0.34920635]\n",
      " [ 0.74199852 -0.66964945 -0.03174603]] \n",
      "r=\n",
      " [[-18.86796226 -65.4018692  109.39178122]\n",
      " [  0.           6.67798664 -25.24309237]\n",
      " [  0.           0.           2.28571429]]\n"
     ]
    }
   ],
   "source": [
    "#9- Write a NumPy program to get the lower-triangular L in the Cholesky decomposition of a given array. \n",
    "import numpy as np\n",
    "a = np.array([[4, 12, -14], [12, 37, -53], [-14, -53, 98]], dtype=np.int32)\n",
    "print(\"Original array:\")\n",
    "print(a)\n",
    "q, r = np.linalg.qr(a)\n",
    "print(\"qr factorization of the said array:\")\n",
    "print( \"q=\\n\", q, \"\\nr=\\n\", r)"
   ]
  },
  {
   "cell_type": "code",
   "execution_count": 15,
   "metadata": {},
   "outputs": [
    {
     "name": "stdout",
     "output_type": "stream",
     "text": [
      "Numpy Matrix is:\n",
      "[[55 25 15]\n",
      " [30 44  2]\n",
      " [11 45 77]]\n",
      "\n",
      "Trace of given 3X3 matrix:\n",
      "176\n"
     ]
    }
   ],
   "source": [
    "#10-Write a NumPy program to compute the sum of the diagonal element of a given array\n",
    "import numpy as np\n",
    "n_array = np.array([[55, 25, 15],\n",
    "\t\t\t\t\t[30, 44, 2],\n",
    "\t\t\t\t\t[11, 45, 77]])\n",
    "print(\"Numpy Matrix is:\")\n",
    "print(n_array)\n",
    "trace = np.trace(n_array)\n",
    "print(\"\\nTrace of given 3X3 matrix:\")\n",
    "print(trace)\n"
   ]
  }
 ],
 "metadata": {
  "kernelspec": {
   "display_name": "Python 3",
   "language": "python",
   "name": "python3"
  },
  "language_info": {
   "codemirror_mode": {
    "name": "ipython",
    "version": 3
   },
   "file_extension": ".py",
   "mimetype": "text/x-python",
   "name": "python",
   "nbconvert_exporter": "python",
   "pygments_lexer": "ipython3",
   "version": "3.8.5"
  }
 },
 "nbformat": 4,
 "nbformat_minor": 4
}
